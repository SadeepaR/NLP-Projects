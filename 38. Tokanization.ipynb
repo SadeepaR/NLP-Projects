{
 "cells": [
  {
   "cell_type": "code",
   "execution_count": 6,
   "metadata": {
    "colab": {
     "base_uri": "https://localhost:8080/"
    },
    "executionInfo": {
     "elapsed": 7054,
     "status": "ok",
     "timestamp": 1746247099324,
     "user": {
      "displayName": "Sadeepa Ranasinghe",
      "userId": "07744084680810993172"
     },
     "user_tz": -330
    },
    "id": "3awDMWhyr9Lz",
    "outputId": "c3bdd3f3-8114-49cd-d3b1-d1ed6b2ab424"
   },
   "outputs": [
    {
     "name": "stdout",
     "output_type": "stream",
     "text": [
      "Requirement already satisfied: nltk in d:\\self study\\1 - udemy courses\\krish_naik\\generative ai course\\nlp-projects\\myenv\\lib\\site-packages (3.9.1)\n",
      "Requirement already satisfied: click in d:\\self study\\1 - udemy courses\\krish_naik\\generative ai course\\nlp-projects\\myenv\\lib\\site-packages (from nltk) (8.2.0)\n",
      "Requirement already satisfied: joblib in d:\\self study\\1 - udemy courses\\krish_naik\\generative ai course\\nlp-projects\\myenv\\lib\\site-packages (from nltk) (1.5.0)\n",
      "Requirement already satisfied: regex>=2021.8.3 in d:\\self study\\1 - udemy courses\\krish_naik\\generative ai course\\nlp-projects\\myenv\\lib\\site-packages (from nltk) (2024.11.6)\n",
      "Requirement already satisfied: tqdm in d:\\self study\\1 - udemy courses\\krish_naik\\generative ai course\\nlp-projects\\myenv\\lib\\site-packages (from nltk) (4.67.1)\n",
      "Requirement already satisfied: colorama in d:\\self study\\1 - udemy courses\\krish_naik\\generative ai course\\nlp-projects\\myenv\\lib\\site-packages (from click->nltk) (0.4.6)\n"
     ]
    }
   ],
   "source": [
    "!pip install nltk"
   ]
  },
  {
   "cell_type": "code",
   "execution_count": 7,
   "metadata": {
    "executionInfo": {
     "elapsed": 4,
     "status": "ok",
     "timestamp": 1746247101512,
     "user": {
      "displayName": "Sadeepa Ranasinghe",
      "userId": "07744084680810993172"
     },
     "user_tz": -330
    },
    "id": "bwxmfHz-sTTP"
   },
   "outputs": [],
   "source": [
    "#define corpus\n",
    "corpus = \"\"\"Hello Welcome,to Krish Naik's NLP Tutorials.\n",
    "Please do watch the entire course! to become expert in NLP.\n",
    "\"\"\""
   ]
  },
  {
   "cell_type": "code",
   "execution_count": 8,
   "metadata": {
    "colab": {
     "base_uri": "https://localhost:8080/",
     "height": 53
    },
    "executionInfo": {
     "elapsed": 68,
     "status": "ok",
     "timestamp": 1746247102865,
     "user": {
      "displayName": "Sadeepa Ranasinghe",
      "userId": "07744084680810993172"
     },
     "user_tz": -330
    },
    "id": "AlXnl_u2sgJj",
    "outputId": "f06157b5-9626-4037-dda8-8ed02c7845c5"
   },
   "outputs": [
    {
     "data": {
      "text/plain": [
       "\"Hello Welcome,to Krish Naik's NLP Tutorials.\\nPlease do watch the entire course! to become expert in NLP.\\n\""
      ]
     },
     "execution_count": 8,
     "metadata": {},
     "output_type": "execute_result"
    }
   ],
   "source": [
    " corpus"
   ]
  },
  {
   "cell_type": "code",
   "execution_count": 9,
   "metadata": {
    "colab": {
     "base_uri": "https://localhost:8080/"
    },
    "executionInfo": {
     "elapsed": 3,
     "status": "ok",
     "timestamp": 1746247104734,
     "user": {
      "displayName": "Sadeepa Ranasinghe",
      "userId": "07744084680810993172"
     },
     "user_tz": -330
    },
    "id": "J29wsCa9suS6",
    "outputId": "5e641c9d-b9da-4be7-8343-e07b0feeece5"
   },
   "outputs": [
    {
     "name": "stdout",
     "output_type": "stream",
     "text": [
      "Hello Welcome,to Krish Naik's NLP Tutorials.\n",
      "Please do watch the entire course! to become expert in NLP.\n",
      "\n"
     ]
    }
   ],
   "source": [
    "print(corpus)"
   ]
  },
  {
   "cell_type": "markdown",
   "metadata": {
    "id": "z5Rn28Gksxfq"
   },
   "source": [
    "# TOKANIZATION\n",
    "\n",
    "**most of the time we use sent_tokanize & word_tokanize**\n"
   ]
  },
  {
   "cell_type": "markdown",
   "metadata": {
    "id": "HaoYRC2ns1Vt"
   },
   "source": [
    "Convert paragraph into sentences\n",
    "\n",
    "paragraph --> sentences"
   ]
  },
  {
   "cell_type": "code",
   "execution_count": 10,
   "metadata": {
    "colab": {
     "base_uri": "https://localhost:8080/"
    },
    "executionInfo": {
     "elapsed": 4739,
     "status": "ok",
     "timestamp": 1746247110815,
     "user": {
      "displayName": "Sadeepa Ranasinghe",
      "userId": "07744084680810993172"
     },
     "user_tz": -330
    },
    "id": "FBRtjeXCs0Ks",
    "outputId": "1bdbb128-9fa1-4846-8f3f-6f188088d4b9"
   },
   "outputs": [
    {
     "name": "stderr",
     "output_type": "stream",
     "text": [
      "[nltk_data] Downloading package punkt_tab to C:\\Users\\Sadeepa\n",
      "[nltk_data]     Ranasinghe\\AppData\\Roaming\\nltk_data...\n",
      "[nltk_data]   Unzipping tokenizers\\punkt_tab.zip.\n"
     ]
    }
   ],
   "source": [
    "import nltk\n",
    "nltk.download('punkt_tab')\n",
    "\n",
    "from nltk.tokenize import sent_tokenize"
   ]
  },
  {
   "cell_type": "code",
   "execution_count": 11,
   "metadata": {
    "executionInfo": {
     "elapsed": 25,
     "status": "ok",
     "timestamp": 1746247119592,
     "user": {
      "displayName": "Sadeepa Ranasinghe",
      "userId": "07744084680810993172"
     },
     "user_tz": -330
    },
    "id": "f3OAO-O3tA2-"
   },
   "outputs": [],
   "source": [
    "documents = sent_tokenize(corpus)\n",
    "# sent_tokenize converts paragraph to sentences\n",
    "\n",
    "#here paragraph is devided to sentences using . and \\n and !"
   ]
  },
  {
   "cell_type": "code",
   "execution_count": 12,
   "metadata": {
    "colab": {
     "base_uri": "https://localhost:8080/"
    },
    "executionInfo": {
     "elapsed": 24,
     "status": "ok",
     "timestamp": 1746247120703,
     "user": {
      "displayName": "Sadeepa Ranasinghe",
      "userId": "07744084680810993172"
     },
     "user_tz": -330
    },
    "id": "LAVudmyct5Yi",
    "outputId": "9e13966d-e12c-4d9c-b93c-10e92cbd2101"
   },
   "outputs": [
    {
     "data": {
      "text/plain": [
       "[\"Hello Welcome,to Krish Naik's NLP Tutorials.\",\n",
       " 'Please do watch the entire course!',\n",
       " 'to become expert in NLP.']"
      ]
     },
     "execution_count": 12,
     "metadata": {},
     "output_type": "execute_result"
    }
   ],
   "source": [
    "documents\n"
   ]
  },
  {
   "cell_type": "code",
   "execution_count": 13,
   "metadata": {
    "colab": {
     "base_uri": "https://localhost:8080/"
    },
    "executionInfo": {
     "elapsed": 3,
     "status": "ok",
     "timestamp": 1746247123061,
     "user": {
      "displayName": "Sadeepa Ranasinghe",
      "userId": "07744084680810993172"
     },
     "user_tz": -330
    },
    "id": "T_JpWrSWt854",
    "outputId": "0f74cff3-b904-4586-fcb0-f6316ebbe031"
   },
   "outputs": [
    {
     "data": {
      "text/plain": [
       "list"
      ]
     },
     "execution_count": 13,
     "metadata": {},
     "output_type": "execute_result"
    }
   ],
   "source": [
    "type(documents)"
   ]
  },
  {
   "cell_type": "code",
   "execution_count": 14,
   "metadata": {
    "colab": {
     "base_uri": "https://localhost:8080/"
    },
    "executionInfo": {
     "elapsed": 4,
     "status": "ok",
     "timestamp": 1746247124420,
     "user": {
      "displayName": "Sadeepa Ranasinghe",
      "userId": "07744084680810993172"
     },
     "user_tz": -330
    },
    "id": "RGi96cUvt-4u",
    "outputId": "dac20669-2df0-43ca-c251-20684be2b6c5"
   },
   "outputs": [
    {
     "name": "stdout",
     "output_type": "stream",
     "text": [
      "Hello Welcome,to Krish Naik's NLP Tutorials.\n",
      "Please do watch the entire course!\n",
      "to become expert in NLP.\n"
     ]
    }
   ],
   "source": [
    "for sentence in documents:\n",
    "  print(sentence)"
   ]
  },
  {
   "cell_type": "markdown",
   "metadata": {
    "id": "qugvxPI6uFnH"
   },
   "source": [
    "# Tokanization - step 2\n",
    "\n",
    "convert sentence in to words\n",
    "\n",
    "sentence ---> words"
   ]
  },
  {
   "cell_type": "code",
   "execution_count": null,
   "metadata": {
    "colab": {
     "base_uri": "https://localhost:8080/"
    },
    "executionInfo": {
     "elapsed": 4,
     "status": "ok",
     "timestamp": 1746247127282,
     "user": {
      "displayName": "Sadeepa Ranasinghe",
      "userId": "07744084680810993172"
     },
     "user_tz": -330
    },
    "id": "zckZVNUYuQ13",
    "outputId": "b1e90976-47ec-454c-a36e-14adebfe9388"
   },
   "outputs": [
    {
     "data": {
      "text/plain": [
       "['Hello',\n",
       " 'Welcome',\n",
       " ',',\n",
       " 'to',\n",
       " 'Krish',\n",
       " 'Naik',\n",
       " \"'s\",\n",
       " 'NLP',\n",
       " 'Tutorials',\n",
       " '.',\n",
       " 'Please',\n",
       " 'do',\n",
       " 'watch',\n",
       " 'the',\n",
       " 'entire',\n",
       " 'course',\n",
       " '!',\n",
       " 'to',\n",
       " 'become',\n",
       " 'expert',\n",
       " 'in',\n",
       " 'NLP',\n",
       " '.']"
      ]
     },
     "execution_count": 15,
     "metadata": {},
     "output_type": "execute_result"
    }
   ],
   "source": [
    "from nltk.tokenize import word_tokenize\n",
    "\n",
    "word_tokenize(corpus)\n",
    "#convert corpus directly to words\n",
    "\n",
    "#All characters like , . ! are treated as sepearete words"
   ]
  },
  {
   "cell_type": "code",
   "execution_count": 16,
   "metadata": {
    "colab": {
     "base_uri": "https://localhost:8080/"
    },
    "executionInfo": {
     "elapsed": 3,
     "status": "ok",
     "timestamp": 1746247128897,
     "user": {
      "displayName": "Sadeepa Ranasinghe",
      "userId": "07744084680810993172"
     },
     "user_tz": -330
    },
    "id": "99ET693QxQuq",
    "outputId": "9c84d239-202e-47db-fe30-3ea15aaa6313"
   },
   "outputs": [
    {
     "name": "stdout",
     "output_type": "stream",
     "text": [
      "['Hello', 'Welcome', ',', 'to', 'Krish', 'Naik', \"'s\", 'NLP', 'Tutorials', '.']\n",
      "['Please', 'do', 'watch', 'the', 'entire', 'course', '!']\n",
      "['to', 'become', 'expert', 'in', 'NLP', '.']\n"
     ]
    }
   ],
   "source": [
    "#sentence tokanize\n",
    "\n",
    "for sentence in documents:\n",
    "  print(word_tokenize(sentence))\n"
   ]
  },
  {
   "cell_type": "code",
   "execution_count": 17,
   "metadata": {
    "colab": {
     "base_uri": "https://localhost:8080/"
    },
    "executionInfo": {
     "elapsed": 15,
     "status": "ok",
     "timestamp": 1746247131193,
     "user": {
      "displayName": "Sadeepa Ranasinghe",
      "userId": "07744084680810993172"
     },
     "user_tz": -330
    },
    "id": "ONpgFbnmxb1j",
    "outputId": "927b4900-1d9e-42fb-91db-33f8d1ee6201"
   },
   "outputs": [
    {
     "data": {
      "text/plain": [
       "['Hello',\n",
       " 'Welcome',\n",
       " ',',\n",
       " 'to',\n",
       " 'Krish',\n",
       " 'Naik',\n",
       " \"'\",\n",
       " 's',\n",
       " 'NLP',\n",
       " 'Tutorials',\n",
       " '.',\n",
       " 'Please',\n",
       " 'do',\n",
       " 'watch',\n",
       " 'the',\n",
       " 'entire',\n",
       " 'course',\n",
       " '!',\n",
       " 'to',\n",
       " 'become',\n",
       " 'expert',\n",
       " 'in',\n",
       " 'NLP',\n",
       " '.']"
      ]
     },
     "execution_count": 17,
     "metadata": {},
     "output_type": "execute_result"
    }
   ],
   "source": [
    "from nltk.tokenize import wordpunct_tokenize\n",
    "\n",
    "#this wordpunct_tokenize is punctuation related\n",
    "#so it treats every punctuation also as a seperate character\n",
    "\n",
    "wordpunct_tokenize(corpus)"
   ]
  },
  {
   "cell_type": "code",
   "execution_count": 19,
   "metadata": {
    "colab": {
     "base_uri": "https://localhost:8080/"
    },
    "executionInfo": {
     "elapsed": 74,
     "status": "ok",
     "timestamp": 1746247313945,
     "user": {
      "displayName": "Sadeepa Ranasinghe",
      "userId": "07744084680810993172"
     },
     "user_tz": -330
    },
    "id": "HIu_rUodcNYf",
    "outputId": "1ad0601c-d2f9-402b-b96f-a92b52e0e23a"
   },
   "outputs": [
    {
     "data": {
      "text/plain": [
       "['Hello',\n",
       " 'Welcome',\n",
       " ',',\n",
       " 'to',\n",
       " 'Krish',\n",
       " 'Naik',\n",
       " \"'s\",\n",
       " 'NLP',\n",
       " 'Tutorials.',\n",
       " 'Please',\n",
       " 'do',\n",
       " 'watch',\n",
       " 'the',\n",
       " 'entire',\n",
       " 'course',\n",
       " '!',\n",
       " 'to',\n",
       " 'become',\n",
       " 'expert',\n",
       " 'in',\n",
       " 'NLP',\n",
       " '.']"
      ]
     },
     "execution_count": 19,
     "metadata": {},
     "output_type": "execute_result"
    }
   ],
   "source": [
    "#Tree bank word tokanizer\n",
    "from nltk.tokenize import TreebankWordTokenizer\n",
    "\n",
    "tokenizer = TreebankWordTokenizer()\n",
    "tokenizer.tokenize(corpus)\n",
    "\n",
    "#here fullstop is not trated as a seperate word. it is added to the previous word\n",
    "#But for the last word only, fullstop will trat as a seperate word\n"
   ]
  }
 ],
 "metadata": {
  "accelerator": "GPU",
  "colab": {
   "authorship_tag": "ABX9TyOSRxjKyFbGNhX4dOoMTP+M",
   "gpuType": "T4",
   "provenance": []
  },
  "kernelspec": {
   "display_name": "Python 3",
   "name": "python3"
  },
  "language_info": {
   "codemirror_mode": {
    "name": "ipython",
    "version": 3
   },
   "file_extension": ".py",
   "mimetype": "text/x-python",
   "name": "python",
   "nbconvert_exporter": "python",
   "pygments_lexer": "ipython3",
   "version": "3.13.2"
  }
 },
 "nbformat": 4,
 "nbformat_minor": 0
}
