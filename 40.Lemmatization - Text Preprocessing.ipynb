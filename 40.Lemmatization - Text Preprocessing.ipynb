{
 "cells": [
  {
   "cell_type": "markdown",
   "metadata": {
    "id": "gX74k8FC3qD0"
   },
   "source": [
    "## Wordnet Lemmatizer\n",
    "Lemmatization technique is like stemming. The output we will get after lemmatization is called ‘lemma’, which is a root word rather than root stem, the output of stemming. After lemmatization, we will be getting a valid word that means the same thing.\n",
    "\n",
    "lemma = root word\n",
    "\n",
    "ex - eating -> eat , history -> history , gone -> go\n",
    "\n",
    "main aim of Lemmatizer is to give you the exact form of the word which is meaningful and it does not change the meaning as it was happening in stemming itself.\n",
    "\n",
    "NLTK provides WordNetLemmatizer class which is a thin wrapper around the wordnet corpus. This class uses morphy() function to the WordNet CorpusReader class to find a lemma. Let us understand it with an example −\n"
   ]
  },
  {
   "cell_type": "markdown",
   "metadata": {
    "id": "0UwO0UhfJvQY"
   },
   "source": []
  },
  {
   "cell_type": "code",
   "execution_count": 2,
   "metadata": {
    "colab": {
     "base_uri": "https://localhost:8080/"
    },
    "executionInfo": {
     "elapsed": 332,
     "status": "ok",
     "timestamp": 1746259531372,
     "user": {
      "displayName": "Sadeepa Ranasinghe",
      "userId": "07744084680810993172"
     },
     "user_tz": -330
    },
    "id": "IbbKf4viLcrn",
    "outputId": "06ea0408-1d78-401d-88eb-4b3f6fd789e8"
   },
   "outputs": [
    {
     "name": "stderr",
     "output_type": "stream",
     "text": [
      "[nltk_data] Downloading package wordnet to C:\\Users\\Sadeepa\n",
      "[nltk_data]     Ranasinghe\\AppData\\Roaming\\nltk_data...\n",
      "[nltk_data]   Package wordnet is already up-to-date!\n"
     ]
    },
    {
     "data": {
      "text/plain": [
       "True"
      ]
     },
     "execution_count": 2,
     "metadata": {},
     "output_type": "execute_result"
    }
   ],
   "source": [
    "import nltk\n",
    "nltk.download('wordnet')\n"
   ]
  },
  {
   "cell_type": "code",
   "execution_count": 4,
   "metadata": {
    "executionInfo": {
     "elapsed": 2,
     "status": "ok",
     "timestamp": 1746259533747,
     "user": {
      "displayName": "Sadeepa Ranasinghe",
      "userId": "07744084680810993172"
     },
     "user_tz": -330
    },
    "id": "bomE9tEF3qD1"
   },
   "outputs": [],
   "source": [
    "from nltk.stem import WordNetLemmatizer"
   ]
  },
  {
   "cell_type": "code",
   "execution_count": 5,
   "metadata": {
    "executionInfo": {
     "elapsed": 9,
     "status": "ok",
     "timestamp": 1746259534601,
     "user": {
      "displayName": "Sadeepa Ranasinghe",
      "userId": "07744084680810993172"
     },
     "user_tz": -330
    },
    "id": "zy_3CGLz3qD2"
   },
   "outputs": [],
   "source": [
    "lemmatizer=WordNetLemmatizer()"
   ]
  },
  {
   "cell_type": "code",
   "execution_count": null,
   "metadata": {
    "colab": {
     "base_uri": "https://localhost:8080/",
     "height": 35
    },
    "executionInfo": {
     "elapsed": 10,
     "status": "ok",
     "timestamp": 1746259626639,
     "user": {
      "displayName": "Sadeepa Ranasinghe",
      "userId": "07744084680810993172"
     },
     "user_tz": -330
    },
    "id": "gZZEBTnA3qD3",
    "outputId": "ce159377-0a77-4542-cc0a-bb882ef1cf16"
   },
   "outputs": [
    {
     "data": {
      "text/plain": [
       "'go'"
      ]
     },
     "execution_count": 8,
     "metadata": {},
     "output_type": "execute_result"
    }
   ],
   "source": [
    "'''\n",
    "POS types and values---\n",
    "Noun-n\n",
    "verb-v\n",
    "adjective-a\n",
    "adverb-r\n",
    "'''\n",
    "\n",
    "lemmatizer.lemmatize(\"going\",pos='v')\n",
    "\n",
    "# lemmatize(word , pos)\n",
    "# pos tag -> how to treat the word\n",
    "# above we ask to trat goinf as a verb"
   ]
  },
  {
   "cell_type": "code",
   "execution_count": 9,
   "metadata": {
    "executionInfo": {
     "elapsed": 49,
     "status": "ok",
     "timestamp": 1746259634392,
     "user": {
      "displayName": "Sadeepa Ranasinghe",
      "userId": "07744084680810993172"
     },
     "user_tz": -330
    },
    "id": "r6fTd1ns3qD3"
   },
   "outputs": [],
   "source": [
    "words=[\"eating\",\"eats\",\"eaten\",\"writing\",\"writes\",\"programming\",\"programs\",\"history\",\"finally\",\"finalized\"]"
   ]
  },
  {
   "cell_type": "code",
   "execution_count": 11,
   "metadata": {
    "colab": {
     "base_uri": "https://localhost:8080/"
    },
    "executionInfo": {
     "elapsed": 7,
     "status": "ok",
     "timestamp": 1746259663176,
     "user": {
      "displayName": "Sadeepa Ranasinghe",
      "userId": "07744084680810993172"
     },
     "user_tz": -330
    },
    "id": "Ana0hAdy3qD4",
    "outputId": "6cc2f25f-2431-4dd0-af04-97248dea52b8"
   },
   "outputs": [
    {
     "name": "stdout",
     "output_type": "stream",
     "text": [
      "eating---->eating\n",
      "eats---->eats\n",
      "eaten---->eaten\n",
      "writing---->writing\n",
      "writes---->writes\n",
      "programming---->programming\n",
      "programs---->program\n",
      "history---->history\n",
      "finally---->finally\n",
      "finalized---->finalized\n"
     ]
    }
   ],
   "source": [
    "for word in words:\n",
    "    print(word+\"---->\"+lemmatizer.lemmatize(word,pos='n'))\n",
    "\n",
    "# since pos='n' -> we treat words as nouns"
   ]
  },
  {
   "cell_type": "code",
   "execution_count": 12,
   "metadata": {
    "colab": {
     "base_uri": "https://localhost:8080/"
    },
    "executionInfo": {
     "elapsed": 4,
     "status": "ok",
     "timestamp": 1746259736467,
     "user": {
      "displayName": "Sadeepa Ranasinghe",
      "userId": "07744084680810993172"
     },
     "user_tz": -330
    },
    "id": "uHRU2aigMM5O",
    "outputId": "d744ff7b-42ce-4ac0-9718-96f7717efae3"
   },
   "outputs": [
    {
     "name": "stdout",
     "output_type": "stream",
     "text": [
      "eating---->eat\n",
      "eats---->eat\n",
      "eaten---->eat\n",
      "writing---->write\n",
      "writes---->write\n",
      "programming---->program\n",
      "programs---->program\n",
      "history---->history\n",
      "finally---->finally\n",
      "finalized---->finalize\n"
     ]
    }
   ],
   "source": [
    "for word in words:\n",
    "    print(word+\"---->\"+lemmatizer.lemmatize(word,pos='v'))\n",
    "\n",
    "# since pos='n' -> we treat words as verbs"
   ]
  },
  {
   "cell_type": "code",
   "execution_count": 15,
   "metadata": {
    "colab": {
     "base_uri": "https://localhost:8080/",
     "height": 35
    },
    "executionInfo": {
     "elapsed": 19,
     "status": "ok",
     "timestamp": 1746259777381,
     "user": {
      "displayName": "Sadeepa Ranasinghe",
      "userId": "07744084680810993172"
     },
     "user_tz": -330
    },
    "id": "u3klyTOM3qD4",
    "outputId": "4afbe7a4-32d5-4fbe-89e2-e8de823c6009"
   },
   "outputs": [
    {
     "data": {
      "text/plain": [
       "'go'"
      ]
     },
     "execution_count": 15,
     "metadata": {},
     "output_type": "execute_result"
    }
   ],
   "source": [
    "lemmatizer.lemmatize(\"goes\",pos='v')"
   ]
  },
  {
   "cell_type": "code",
   "execution_count": 16,
   "metadata": {
    "colab": {
     "base_uri": "https://localhost:8080/"
    },
    "executionInfo": {
     "elapsed": 11,
     "status": "ok",
     "timestamp": 1746259779446,
     "user": {
      "displayName": "Sadeepa Ranasinghe",
      "userId": "07744084680810993172"
     },
     "user_tz": -330
    },
    "id": "RW74TOZu3qD5",
    "outputId": "99cb5dba-ea0b-4023-ff94-697025c14b09"
   },
   "outputs": [
    {
     "data": {
      "text/plain": [
       "('fairly', 'sportingly')"
      ]
     },
     "execution_count": 16,
     "metadata": {},
     "output_type": "execute_result"
    }
   ],
   "source": [
    "lemmatizer.lemmatize(\"fairly\",pos='v'),lemmatizer.lemmatize(\"sportingly\")"
   ]
  },
  {
   "cell_type": "markdown",
   "metadata": {
    "id": "RsA7mxt8MbCu"
   },
   "source": [
    "So lematization gives meaningful word roots\n",
    "\n",
    "we can use lematization for Q&A chatbots,text summarization\n",
    "\n",
    "But wordNetLematizer takes much time compared to stemming."
   ]
  }
 ],
 "metadata": {
  "colab": {
   "provenance": [
    {
     "file_id": "1uWVID_zk7m_arrt1ge8A_e-Kn_tdE1Pn",
     "timestamp": 1746254396991
    }
   ]
  },
  "kernelspec": {
   "display_name": "Python 3",
   "language": "python",
   "name": "python3"
  },
  "language_info": {
   "codemirror_mode": {
    "name": "ipython",
    "version": 3
   },
   "file_extension": ".py",
   "mimetype": "text/x-python",
   "name": "python",
   "nbconvert_exporter": "python",
   "pygments_lexer": "ipython3",
   "version": "3.13.2"
  }
 },
 "nbformat": 4,
 "nbformat_minor": 0
}
